{
 "cells": [
  {
   "cell_type": "code",
   "execution_count": 50,
   "metadata": {
    "collapsed": false
   },
   "outputs": [
    {
     "name": "stdout",
     "output_type": "stream",
     "text": [
      "0.851269088951\n"
     ]
    }
   ],
   "source": [
    "# Calculating Conditional Expected mean \n",
    "import scipy.stats as stats\n",
    "import numpy as np\n",
    "import pandas as pd\n",
    "\n",
    "exp = stats.expon(scale=4)\n",
    "N = 1e5\n",
    "X = exp.rvs(N)\n",
    "tt = X < 1\n",
    "\n",
    "## print (X[tt])\n",
    "\n",
    "print (np.mean(np.cos(X[tt])))"
   ]
  },
  {
   "cell_type": "code",
   "execution_count": 53,
   "metadata": {
    "collapsed": false
   },
   "outputs": [],
   "source": [
    "# Calculating Average household income by programming language\n",
    "dat = pd.read_csv (\"data/prog lang.csv\",delimiter=';')\n",
    "\n",
    "\n",
    "import pymc as pm\n",
    "\n",
    "\n",
    "def posterior_upvote_ratio(N, obs_mean_salary, samples=20000):\n",
    "    \"\"\"\n",
    "    This function accepts the number of upvotes and downvotes a particular comment received, \n",
    "    and the number of posterior samples to return to the user. Assumes a uniform prior.\n",
    "    \"\"\"\n",
    "    \n",
    "    taus = 1.0 / pm.Uniform(\"stds_salary\", 0, 50000, size=2) ** 2\n",
    "    \n",
    "    mean_salar = pm.Normal(\"mean_salary\", [50000, 150000], taus, value=obs_mean_salary, observed=True)\n",
    "    \n",
    "    \n",
    "    centers = pm.Normal(\"centers\", [120, 190], [0.01, 0.01], size=2)\n",
    "    \n",
    "    observations = pm.Normal(\"obs\", mean_salar, centers, value=upvotes, observed=True)\n",
    "                               \n",
    "    # do the fitting; first do a MAP as it is cheap and useful.\n",
    "    map_ = pm.MAP([upvote_ratio, observations]).fit()\n",
    "    mcmc = pm.MCMC([upvote_ratio, observations])\n",
    "    mcmc.sample(samples, samples / 4)\n",
    "    return mcmc.trace(\"upvote_ratio\")[:]"
   ]
  }
 ],
 "metadata": {
  "kernelspec": {
   "display_name": "Python 2",
   "language": "python",
   "name": "python2"
  },
  "language_info": {
   "codemirror_mode": {
    "name": "ipython",
    "version": 2
   },
   "file_extension": ".py",
   "mimetype": "text/x-python",
   "name": "python",
   "nbconvert_exporter": "python",
   "pygments_lexer": "ipython2",
   "version": "2.7.11"
  }
 },
 "nbformat": 4,
 "nbformat_minor": 0
}
