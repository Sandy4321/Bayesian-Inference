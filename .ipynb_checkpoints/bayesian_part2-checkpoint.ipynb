{
 "cells": [
  {
   "cell_type": "code",
   "execution_count": 3,
   "metadata": {
    "collapsed": false
   },
   "outputs": [],
   "source": [
    "%matplotlib inline  \n",
    "\n",
    "import numpy as np\n",
    "import matplotlib.pyplot as plt\n",
    "import pymc as pm\n",
    "\n"
   ]
  },
  {
   "cell_type": "code",
   "execution_count": 7,
   "metadata": {
    "collapsed": false
   },
   "outputs": [
    {
     "name": "stdout",
     "output_type": "stream",
     "text": [
      "[ True False  True False False  True  True  True False False  True False\n",
      "  True  True False False  True  True False  True  True False False  True\n",
      "  True False  True False  True False False  True  True  True  True False\n",
      "  True  True  True False False  True  True False  True  True False  True\n",
      " False False  True  True  True False False False  True False  True  True\n",
      " False False False False  True  True  True  True  True False  True False\n",
      " False  True  True  True  True False False  True  True  True  True False\n",
      "  True  True False False  True  True False False False False False False\n",
      "  True  True  True  True]\n"
     ]
    }
   ],
   "source": [
    "N = 100\n",
    "p = pm.Uniform(\"freq_cheating\", 0, 1)\n",
    "\n",
    "true_answers = pm.Bernoulli(\"truths\", p, size=N)\n",
    "\n",
    "first_coin_flips = pm.Bernoulli(\"first_flips\", 0.5, size=N)\n",
    "print (first_coin_flips.value)\n",
    "\n",
    "second_coin_flips = pm.Bernoulli(\"second_flips\", 0.5, size=N)"
   ]
  },
  {
   "cell_type": "code",
   "execution_count": 15,
   "metadata": {
    "collapsed": false
   },
   "outputs": [],
   "source": [
    "@pm.deterministic\n",
    "def observed_proportion(t_a=true_answers,\n",
    "                        fc=first_coin_flips,\n",
    "                        sc=second_coin_flips):\n",
    "\n",
    "    observed = fc * t_a + (1 - fc) * sc\n",
    "    return observed.sum() / float(N)"
   ]
  },
  {
   "cell_type": "code",
   "execution_count": 38,
   "metadata": {
    "collapsed": true
   },
   "outputs": [],
   "source": [
    "X = 50\n",
    "\n",
    "observations = pm.Binomial(\"obs\", N, observed_proportion, observed=True, value=X)"
   ]
  },
  {
   "cell_type": "code",
   "execution_count": 39,
   "metadata": {
    "collapsed": false
   },
   "outputs": [
    {
     "name": "stdout",
     "output_type": "stream",
     "text": [
      " [-----------------100%-----------------] 40000 of 40000 complete in 23.3 sec"
     ]
    }
   ],
   "source": [
    "model = pm.Model([p, true_answers, first_coin_flips,\n",
    "                  second_coin_flips, observed_proportion, observations])\n",
    "\n",
    "# To be explained in Chapter 3!\n",
    "mcmc = pm.MCMC(model)\n",
    "mcmc.sample(40000, 15000)"
   ]
  },
  {
   "cell_type": "code",
   "execution_count": 40,
   "metadata": {
    "collapsed": false
   },
   "outputs": [
    {
     "data": {
      "image/png": "[encoded data removed]",
      "text/plain": [
       "<matplotlib.figure.Figure at 0x10c3ca90>"
      ]
     },
     "metadata": {},
     "output_type": "display_data"
    }
   ],
   "source": [
    "plt.figure(figsize=(12.5, 3))\n",
    "p_trace = mcmc.trace(\"freq_cheating\")[:]\n",
    "plt.hist(p_trace, histtype=\"stepfilled\", normed=True, alpha=0.85, bins=30,\n",
    "         label=\"posterior distribution\", color=\"#348ABD\")\n",
    "plt.vlines([.05, .35], [0, 0], [5, 5], alpha=0.3)\n",
    "plt.xlim(0, 1)\n",
    "plt.legend();"
   ]
  },
  {
   "cell_type": "code",
   "execution_count": null,
   "metadata": {
    "collapsed": true
   },
   "outputs": [],
   "source": [
    "# type your code here.\n",
    "figsize(12.5, 4)\n",
    "\n",
    "plt.scatter(alpha_samples, beta_samples, alpha=0.1)\n",
    "plt.title(\"Why does the plot look like this?\")\n",
    "plt.xlabel(r\"$\\alpha$\")\n",
    "plt.ylabel(r\"$\\beta$\")"
   ]
  }
 ],
 "metadata": {
  "kernelspec": {
   "display_name": "Python 3",
   "language": "python",
   "name": "python3"
  },
  "language_info": {
   "codemirror_mode": {
    "name": "ipython",
    "version": 3
   },
   "file_extension": ".py",
   "mimetype": "text/x-python",
   "name": "python",
   "nbconvert_exporter": "python",
   "pygments_lexer": "ipython3",
   "version": "3.5.1"
  }
 },
 "nbformat": 4,
 "nbformat_minor": 0
}
