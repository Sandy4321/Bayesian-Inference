{
 "cells": [
  {
   "cell_type": "code",
   "execution_count": 1,
   "metadata": {
    "collapsed": false
   },
   "outputs": [],
   "source": [
    "#LOADING LIBRARIES\n",
    "%matplotlib inline\n",
    "#%pylab inline\n",
    "\n",
    "import pandas as pd\n",
    "#import pylab as pl\n",
    "import numpy as np\n",
    "import matplotlib as plt\n",
    "import sklearn\n",
    "import time\n",
    "import gc\n",
    "\n",
    "from sklearn import cross_validation, metrics, neighbors\n",
    "from sklearn.preprocessing import scale, LabelBinarizer\n",
    "from sklearn.grid_search import GridSearchCV\n",
    "from scipy.stats import gaussian_kde\n",
    "from sklearn.svm import SVC, NuSVC, LinearSVC, SVR, NuSVR\n",
    "from sklearn.tree import DecisionTreeClassifier\n",
    "from sklearn.base import BaseEstimator, ClassifierMixin\n",
    "from sklearn.ensemble import RandomForestClassifier, RandomForestRegressor, AdaBoostClassifier, ExtraTreesClassifier\n",
    "from sklearn.neighbors import KNeighborsClassifier\n",
    "from sklearn.multiclass import OneVsRestClassifier\n",
    "from sklearn.metrics import f1_score, make_scorer, roc_auc_score\n",
    "from sklearn.cross_validation import train_test_split\n",
    "from sklearn.decomposition import PCA, RandomizedPCA, TruncatedSVD\n",
    "from sklearn.linear_model import LinearRegression, Ridge, RidgeClassifier, LogisticRegression, SGDClassifier\n",
    "from sklearn.datasets import load_svmlight_file\n",
    "from sklearn.naive_bayes import BernoulliNB\n",
    "from sklearn.preprocessing import LabelEncoder\n",
    "from xgboost.sklearn import XGBClassifier\n",
    "from scipy import sparse\n",
    "from multiprocessing import Pool\n",
    "\n",
    "\n",
    "gc.enable()\n",
    "np.random.seed(455)\n",
    "\n",
    "pd.set_option('display.max_rows', 20)\n",
    "pd.set_option('display.max_columns', 200)\n",
    "\n",
    "\n"
   ]
  }
 ],
 "metadata": {
  "kernelspec": {
   "display_name": "Python 3",
   "language": "python",
   "name": "python3"
  },
  "language_info": {
   "codemirror_mode": {
    "name": "ipython",
    "version": 3
   },
   "file_extension": ".py",
   "mimetype": "text/x-python",
   "name": "python",
   "nbconvert_exporter": "python",
   "pygments_lexer": "ipython3",
   "version": "3.5.1"
  }
 },
 "nbformat": 4,
 "nbformat_minor": 0
}
